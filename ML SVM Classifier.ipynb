{
 "cells": [
  {
   "cell_type": "markdown",
   "id": "3a897919-461f-4aa0-8a1c-c1305d4883ef",
   "metadata": {},
   "source": [
    "# ANKIT KUMAR-ML Support Vector Machine(SVM) Classifier-Indian startups dataset"
   ]
  },
  {
   "cell_type": "markdown",
   "id": "1b218cdb-91ee-452d-9abd-188631992874",
   "metadata": {},
   "source": [
    "#  Data Exploration:"
   ]
  },
  {
   "cell_type": "code",
   "execution_count": 1,
   "id": "c86c4168-cf31-43a5-8df1-4a8a0ea06b8f",
   "metadata": {},
   "outputs": [],
   "source": [
    "import pandas as pd\n",
    "import numpy as np\n",
    "from sklearn.model_selection import train_test_split\n",
    "from sklearn.preprocessing import LabelEncoder, OneHotEncoder, StandardScaler\n",
    "from sklearn.svm import SVC\n",
    "from sklearn.metrics import classification_report, confusion_matrix, accuracy_score\n",
    "import warnings\n",
    "warnings.filterwarnings(\"ignore\")"
   ]
  },
  {
   "cell_type": "code",
   "execution_count": 2,
   "id": "d979f7e3-a549-43fc-8e2c-d20fd2e570d5",
   "metadata": {},
   "outputs": [],
   "source": [
    "df=pd.read_csv(r'D:\\Downloads\\Indian Startups.csv')"
   ]
  },
  {
   "cell_type": "code",
   "execution_count": 3,
   "id": "3af09796-2422-4dc5-afe7-008e342969b9",
   "metadata": {},
   "outputs": [
    {
     "data": {
      "text/html": [
       "<div>\n",
       "<style scoped>\n",
       "    .dataframe tbody tr th:only-of-type {\n",
       "        vertical-align: middle;\n",
       "    }\n",
       "\n",
       "    .dataframe tbody tr th {\n",
       "        vertical-align: top;\n",
       "    }\n",
       "\n",
       "    .dataframe thead th {\n",
       "        text-align: right;\n",
       "    }\n",
       "</style>\n",
       "<table border=\"1\" class=\"dataframe\">\n",
       "  <thead>\n",
       "    <tr style=\"text-align: right;\">\n",
       "      <th></th>\n",
       "      <th>CORPORATE_IDENTIFICATION_NUMBER</th>\n",
       "      <th>COMPANY_NAME</th>\n",
       "      <th>COMPANY_STATUS</th>\n",
       "      <th>COMPANY_CLASS</th>\n",
       "      <th>COMPANY_CATEGORY</th>\n",
       "      <th>AUTHORIZED_CAPITAL</th>\n",
       "      <th>PAIDUP_CAPITAL</th>\n",
       "      <th>DATE_OF_REGISTRATION</th>\n",
       "      <th>REGISTRAR_OF_COMPANIES</th>\n",
       "      <th>PRINCIPAL_BUSINESS_ACTIVITY</th>\n",
       "      <th>REGISTERED_OFFICE_ADDRESS</th>\n",
       "      <th>SUB_CATEGORY</th>\n",
       "    </tr>\n",
       "  </thead>\n",
       "  <tbody>\n",
       "    <tr>\n",
       "      <th>0</th>\n",
       "      <td>U55101AN2007PTC000082</td>\n",
       "      <td>GOLDEN REST ROOM PRIVATE LIMITED</td>\n",
       "      <td>ACTIVE</td>\n",
       "      <td>Private</td>\n",
       "      <td>Company Limited by Shares</td>\n",
       "      <td>1000000</td>\n",
       "      <td>100000</td>\n",
       "      <td>26-03-2007</td>\n",
       "      <td>RoC-Chennai</td>\n",
       "      <td>Trading</td>\n",
       "      <td>Golden Rest room Prem Nagar Port Blair Andaman...</td>\n",
       "      <td>Indian Non-Government Company</td>\n",
       "    </tr>\n",
       "    <tr>\n",
       "      <th>1</th>\n",
       "      <td>U01111AN2007PTC000087</td>\n",
       "      <td>ANDAMAN AGRO PRIVATE LIMITED</td>\n",
       "      <td>ACTIVE</td>\n",
       "      <td>Private</td>\n",
       "      <td>Company Limited by Shares</td>\n",
       "      <td>2000000</td>\n",
       "      <td>100000</td>\n",
       "      <td>08/06/07 0:00</td>\n",
       "      <td>RoC-Chennai</td>\n",
       "      <td>Agriculture and Allied Activities</td>\n",
       "      <td>Sadha Bhavan Gurudwara Lane Port Blair Andaman...</td>\n",
       "      <td>Indian Non-Government Company</td>\n",
       "    </tr>\n",
       "    <tr>\n",
       "      <th>2</th>\n",
       "      <td>U45201AN2007PTC000086</td>\n",
       "      <td>ANDAMAN NIRMAN PRIVATE LIMITED</td>\n",
       "      <td>ACTIVE</td>\n",
       "      <td>Private</td>\n",
       "      <td>Company Limited by Shares</td>\n",
       "      <td>2000000</td>\n",
       "      <td>2000000</td>\n",
       "      <td>07/11/07 0:00</td>\n",
       "      <td>RoC-Chennai</td>\n",
       "      <td>Construction</td>\n",
       "      <td>Junglighat Port Blair Andaman and Nicobar Isla...</td>\n",
       "      <td>Indian Non-Government Company</td>\n",
       "    </tr>\n",
       "    <tr>\n",
       "      <th>3</th>\n",
       "      <td>U62200AN2007PTC000227</td>\n",
       "      <td>ABLE AVIATION (INDIA) PRIVATE LIMITED</td>\n",
       "      <td>ACTIVE</td>\n",
       "      <td>Private</td>\n",
       "      <td>Company Limited by Shares</td>\n",
       "      <td>20000000</td>\n",
       "      <td>10000000</td>\n",
       "      <td>20-09-2007</td>\n",
       "      <td>RoC-Chennai</td>\n",
       "      <td>Transport, storage and Communications</td>\n",
       "      <td>HOUSE NO.M.B-210, PART-II, NEAR INCOME TAX OFF...</td>\n",
       "      <td>Indian Non-Government Company</td>\n",
       "    </tr>\n",
       "    <tr>\n",
       "      <th>4</th>\n",
       "      <td>U52190AN1996PTC000053</td>\n",
       "      <td>IMPERIAL AGENCIES PRIVATE LIMITED</td>\n",
       "      <td>ACTIVE</td>\n",
       "      <td>Private</td>\n",
       "      <td>Company Limited by Shares</td>\n",
       "      <td>2500000</td>\n",
       "      <td>2500000</td>\n",
       "      <td>07/10/96 0:00</td>\n",
       "      <td>RoC-Chennai</td>\n",
       "      <td>Trading</td>\n",
       "      <td>2 Middle Point Port Blair Andaman and Nicobar ...</td>\n",
       "      <td>Indian Non-Government Company</td>\n",
       "    </tr>\n",
       "  </tbody>\n",
       "</table>\n",
       "</div>"
      ],
      "text/plain": [
       "  CORPORATE_IDENTIFICATION_NUMBER                           COMPANY_NAME  \\\n",
       "0           U55101AN2007PTC000082       GOLDEN REST ROOM PRIVATE LIMITED   \n",
       "1           U01111AN2007PTC000087           ANDAMAN AGRO PRIVATE LIMITED   \n",
       "2           U45201AN2007PTC000086         ANDAMAN NIRMAN PRIVATE LIMITED   \n",
       "3           U62200AN2007PTC000227  ABLE AVIATION (INDIA) PRIVATE LIMITED   \n",
       "4           U52190AN1996PTC000053      IMPERIAL AGENCIES PRIVATE LIMITED   \n",
       "\n",
       "  COMPANY_STATUS COMPANY_CLASS           COMPANY_CATEGORY AUTHORIZED_CAPITAL  \\\n",
       "0         ACTIVE       Private  Company Limited by Shares            1000000   \n",
       "1         ACTIVE       Private  Company Limited by Shares            2000000   \n",
       "2         ACTIVE       Private  Company Limited by Shares            2000000   \n",
       "3         ACTIVE       Private  Company Limited by Shares           20000000   \n",
       "4         ACTIVE       Private  Company Limited by Shares            2500000   \n",
       "\n",
       "  PAIDUP_CAPITAL DATE_OF_REGISTRATION REGISTRAR_OF_COMPANIES  \\\n",
       "0         100000           26-03-2007            RoC-Chennai   \n",
       "1         100000        08/06/07 0:00            RoC-Chennai   \n",
       "2        2000000        07/11/07 0:00            RoC-Chennai   \n",
       "3       10000000           20-09-2007            RoC-Chennai   \n",
       "4        2500000        07/10/96 0:00            RoC-Chennai   \n",
       "\n",
       "             PRINCIPAL_BUSINESS_ACTIVITY  \\\n",
       "0                                Trading   \n",
       "1      Agriculture and Allied Activities   \n",
       "2                           Construction   \n",
       "3  Transport, storage and Communications   \n",
       "4                                Trading   \n",
       "\n",
       "                           REGISTERED_OFFICE_ADDRESS  \\\n",
       "0  Golden Rest room Prem Nagar Port Blair Andaman...   \n",
       "1  Sadha Bhavan Gurudwara Lane Port Blair Andaman...   \n",
       "2  Junglighat Port Blair Andaman and Nicobar Isla...   \n",
       "3  HOUSE NO.M.B-210, PART-II, NEAR INCOME TAX OFF...   \n",
       "4  2 Middle Point Port Blair Andaman and Nicobar ...   \n",
       "\n",
       "                    SUB_CATEGORY  \n",
       "0  Indian Non-Government Company  \n",
       "1  Indian Non-Government Company  \n",
       "2  Indian Non-Government Company  \n",
       "3  Indian Non-Government Company  \n",
       "4  Indian Non-Government Company  "
      ]
     },
     "execution_count": 3,
     "metadata": {},
     "output_type": "execute_result"
    }
   ],
   "source": [
    "# Display the first 5 rows\n",
    "df.head()"
   ]
  },
  {
   "cell_type": "code",
   "execution_count": 4,
   "id": "3c4176d4-2382-4563-9206-6a99e9894750",
   "metadata": {},
   "outputs": [
    {
     "name": "stdout",
     "output_type": "stream",
     "text": [
      "<class 'pandas.core.frame.DataFrame'>\n",
      "RangeIndex: 20000 entries, 0 to 19999\n",
      "Data columns (total 12 columns):\n",
      " #   Column                           Non-Null Count  Dtype \n",
      "---  ------                           --------------  ----- \n",
      " 0   CORPORATE_IDENTIFICATION_NUMBER  20000 non-null  object\n",
      " 1   COMPANY_NAME                     20000 non-null  object\n",
      " 2   COMPANY_STATUS                   20000 non-null  object\n",
      " 3   COMPANY_CLASS                    20000 non-null  object\n",
      " 4   COMPANY_CATEGORY                 20000 non-null  object\n",
      " 5   AUTHORIZED_CAPITAL               20000 non-null  object\n",
      " 6   PAIDUP_CAPITAL                   19846 non-null  object\n",
      " 7   DATE_OF_REGISTRATION             19949 non-null  object\n",
      " 8   REGISTRAR_OF_COMPANIES           20000 non-null  object\n",
      " 9   PRINCIPAL_BUSINESS_ACTIVITY      19785 non-null  object\n",
      " 10  REGISTERED_OFFICE_ADDRESS        19999 non-null  object\n",
      " 11  SUB_CATEGORY                     19998 non-null  object\n",
      "dtypes: object(12)\n",
      "memory usage: 1.8+ MB\n",
      "None\n",
      "       CORPORATE_IDENTIFICATION_NUMBER            COMPANY_NAME COMPANY_STATUS  \\\n",
      "count                            20000                   20000          20000   \n",
      "unique                           20000                   19994              8   \n",
      "top              U55101AP1999PTC032586  DEVI SEA FOODS LIMITED         ACTIVE   \n",
      "freq                                 1                       2          13596   \n",
      "\n",
      "       COMPANY_CLASS           COMPANY_CATEGORY AUTHORIZED_CAPITAL  \\\n",
      "count          20000                      20000              20000   \n",
      "unique             3                          3                555   \n",
      "top          Private  Company Limited by Shares             100000   \n",
      "freq           18446                      19557               5721   \n",
      "\n",
      "       PAIDUP_CAPITAL DATE_OF_REGISTRATION REGISTRAR_OF_COMPANIES  \\\n",
      "count           19846                19949                  20000   \n",
      "unique           3464                 6962                      2   \n",
      "top            100000        09/04/14 0:00          RoC-Hyderabad   \n",
      "freq             6895                   32                  19750   \n",
      "\n",
      "       PRINCIPAL_BUSINESS_ACTIVITY REGISTERED_OFFICE_ADDRESS  \\\n",
      "count                        19785                     19999   \n",
      "unique                          19                     18930   \n",
      "top              Business Services      Andhra Pradesh INDIA   \n",
      "freq                          3666                       283   \n",
      "\n",
      "                         SUB_CATEGORY  \n",
      "count                           19998  \n",
      "unique                              7  \n",
      "top     Indian Non-Government Company  \n",
      "freq                            19855  \n"
     ]
    }
   ],
   "source": [
    "# Check dataset information\n",
    "print(df.info())\n",
    "\n",
    "# Get summary statistics for the dataset\n",
    "print(df.describe(include='all'))\n"
   ]
  },
  {
   "cell_type": "markdown",
   "id": "b19ee7fd-c5c9-462e-954a-3dc9ef2f32ac",
   "metadata": {},
   "source": [
    "# Data Preprocessing:"
   ]
  },
  {
   "cell_type": "code",
   "execution_count": 5,
   "id": "7e518cec-ab95-4c18-a4df-20ead371d448",
   "metadata": {},
   "outputs": [
    {
     "name": "stdout",
     "output_type": "stream",
     "text": [
      "CORPORATE_IDENTIFICATION_NUMBER      0\n",
      "COMPANY_NAME                         0\n",
      "COMPANY_STATUS                       0\n",
      "COMPANY_CLASS                        0\n",
      "COMPANY_CATEGORY                     0\n",
      "AUTHORIZED_CAPITAL                   0\n",
      "PAIDUP_CAPITAL                     154\n",
      "DATE_OF_REGISTRATION                51\n",
      "REGISTRAR_OF_COMPANIES               0\n",
      "PRINCIPAL_BUSINESS_ACTIVITY        215\n",
      "REGISTERED_OFFICE_ADDRESS            1\n",
      "SUB_CATEGORY                         2\n",
      "dtype: int64\n"
     ]
    }
   ],
   "source": [
    "# Check for missing values\n",
    "print(df.isnull().sum())"
   ]
  },
  {
   "cell_type": "code",
   "execution_count": 6,
   "id": "1f6c2ec1-dd5b-4588-bea2-a519ccaa7b70",
   "metadata": {},
   "outputs": [
    {
     "name": "stdout",
     "output_type": "stream",
     "text": [
      "Initial shape: (20000, 12)\n"
     ]
    }
   ],
   "source": [
    "print(\"Initial shape:\", df.shape)"
   ]
  },
  {
   "cell_type": "code",
   "execution_count": 7,
   "id": "f9f82490-ab0d-4eef-8176-cd8bf41b66cb",
   "metadata": {},
   "outputs": [],
   "source": [
    "# Drop columns not useful for prediction\n",
    "df = df.drop(['CORPORATE_IDENTIFICATION_NUMBER', 'COMPANY_NAME', 'REGISTERED_OFFICE_ADDRESS'], axis=1)"
   ]
  },
  {
   "cell_type": "code",
   "execution_count": 8,
   "id": "612cfb50-c78b-4e44-8647-18c8762ed44f",
   "metadata": {},
   "outputs": [
    {
     "name": "stdout",
     "output_type": "stream",
     "text": [
      "Shape after dropping missing values: (19629, 9)\n"
     ]
    }
   ],
   "source": [
    "# Handle missing values\n",
    "df = df.dropna()\n",
    "print(\"Shape after dropping missing values:\", df.shape)"
   ]
  },
  {
   "cell_type": "code",
   "execution_count": 9,
   "id": "2943ad46-bb89-41a3-8c6e-38a9460d09d5",
   "metadata": {},
   "outputs": [],
   "source": [
    "#  Encode categorical variables\n",
    "label_enc_cols = ['COMPANY_STATUS']  # Target column\n",
    "onehot_enc_cols = ['COMPANY_CLASS', 'COMPANY_CATEGORY', 'REGISTRAR_OF_COMPANIES', \n",
    "                   'PRINCIPAL_BUSINESS_ACTIVITY', 'SUB_CATEGORY']"
   ]
  },
  {
   "cell_type": "code",
   "execution_count": 10,
   "id": "7cb743e9-0d47-42f4-905c-393f7d254929",
   "metadata": {},
   "outputs": [],
   "source": [
    "# Label Encode the target\n",
    "le = LabelEncoder()\n",
    "df['COMPANY_STATUS'] = le.fit_transform(df['COMPANY_STATUS'])"
   ]
  },
  {
   "cell_type": "code",
   "execution_count": 11,
   "id": "7a3ed4bd-9b76-4102-90d7-77266be55e4e",
   "metadata": {},
   "outputs": [],
   "source": [
    "# One-hot encode categorical features\n",
    "df = pd.get_dummies(df, columns=onehot_enc_cols, drop_first=True)"
   ]
  },
  {
   "cell_type": "code",
   "execution_count": 12,
   "id": "46e3508c-8635-4f39-91e2-e319796fbd67",
   "metadata": {},
   "outputs": [],
   "source": [
    "# Convert date and capital columns\n",
    "df['DATE_OF_REGISTRATION'] = pd.to_datetime(df['DATE_OF_REGISTRATION'], errors='coerce')\n",
    "df['REG_YEAR'] = df['DATE_OF_REGISTRATION'].dt.year\n",
    "df.drop(columns=['DATE_OF_REGISTRATION'], inplace=True)"
   ]
  },
  {
   "cell_type": "code",
   "execution_count": 13,
   "id": "f7286bca-0b45-4448-a513-c8c9a533a818",
   "metadata": {},
   "outputs": [],
   "source": [
    "# Clean capital columns: replace '-' with NaN, remove commas, and convert to float\n",
    "df['AUTHORIZED_CAPITAL'] = df['AUTHORIZED_CAPITAL'].replace('-', np.nan).str.replace(',', '')\n",
    "df['PAIDUP_CAPITAL'] = df['PAIDUP_CAPITAL'].replace('-', np.nan).str.replace(',', '')\n",
    "\n",
    "df['AUTHORIZED_CAPITAL'] = pd.to_numeric(df['AUTHORIZED_CAPITAL'], errors='coerce')\n",
    "df['PAIDUP_CAPITAL'] = pd.to_numeric(df['PAIDUP_CAPITAL'], errors='coerce')\n",
    "\n",
    "# Drop rows with any NaNs\n",
    "df = df.dropna()\n"
   ]
  },
  {
   "cell_type": "code",
   "execution_count": 14,
   "id": "26309d22-0205-4203-83f7-8a63846d6dea",
   "metadata": {},
   "outputs": [],
   "source": [
    "# Define X and y\n",
    "X = df.drop('COMPANY_STATUS', axis=1)\n",
    "y = df['COMPANY_STATUS']"
   ]
  },
  {
   "cell_type": "code",
   "execution_count": 15,
   "id": "8ab22413-66a8-46e4-b058-e7a3c9b1bfdb",
   "metadata": {},
   "outputs": [],
   "source": [
    "# Scale numeric features\n",
    "scaler = StandardScaler()\n",
    "X_scaled = scaler.fit_transform(X)"
   ]
  },
  {
   "cell_type": "code",
   "execution_count": 16,
   "id": "a6a420fa-c98f-4249-92ee-9c71453fd20c",
   "metadata": {},
   "outputs": [],
   "source": [
    "#Train-test split\n",
    "X_train, X_test, y_train, y_test = train_test_split(X_scaled, y, test_size=0.2, random_state=42)\n"
   ]
  },
  {
   "cell_type": "markdown",
   "id": "099527b3-030a-4f62-91a0-3668d9a5b1e6",
   "metadata": {},
   "source": [
    "# SVM Implementation:"
   ]
  },
  {
   "cell_type": "code",
   "execution_count": 17,
   "id": "683c5a9d-aa5a-457b-83c8-2dc28da5848a",
   "metadata": {},
   "outputs": [
    {
     "name": "stdout",
     "output_type": "stream",
     "text": [
      "\n",
      "Training SVM with linear kernel...\n",
      "Accuracy with linear kernel: 0.8326\n",
      "Classification Report:\n",
      "                                precision    recall  f1-score   support\n",
      "\n",
      "                        ACTIVE       0.86      0.94      0.90      1581\n",
      "            ACTIVE IN PROGRESS       0.00      0.00      0.00         2\n",
      "                   AMALGAMATED       0.00      0.00      0.00         7\n",
      "              CONVERTED TO LLP       0.00      0.00      0.00         0\n",
      "CONVERTED TO LLP AND DISSOLVED       0.00      0.00      0.00         1\n",
      "                       DORMANT       0.67      0.53      0.59       356\n",
      "                    LIQUIDATED       0.00      0.00      0.00         0\n",
      "                    STRIKE OFF       0.00      0.00      0.00        66\n",
      "\n",
      "                      accuracy                           0.83      2013\n",
      "                     macro avg       0.19      0.18      0.19      2013\n",
      "                  weighted avg       0.79      0.83      0.81      2013\n",
      "\n",
      "Confusion Matrix:\n",
      "[[1489    0    0    0   92    0]\n",
      " [   2    0    0    0    0    0]\n",
      " [   7    0    0    0    0    0]\n",
      " [   0    0    0    0    1    0]\n",
      " [ 169    0    0    0  187    0]\n",
      " [  66    0    0    0    0    0]]\n",
      "\n",
      "Training SVM with poly kernel...\n",
      "Accuracy with poly kernel: 0.8192\n",
      "Classification Report:\n",
      "                                precision    recall  f1-score   support\n",
      "\n",
      "                        ACTIVE       0.83      0.96      0.89      1581\n",
      "            ACTIVE IN PROGRESS       0.00      0.00      0.00         2\n",
      "                   AMALGAMATED       0.00      0.00      0.00         7\n",
      "              CONVERTED TO LLP       0.00      0.00      0.00         0\n",
      "CONVERTED TO LLP AND DISSOLVED       0.00      0.00      0.00         1\n",
      "                       DORMANT       0.68      0.35      0.46       356\n",
      "                    LIQUIDATED       0.00      0.00      0.00         0\n",
      "                    STRIKE OFF       1.00      0.02      0.03        66\n",
      "\n",
      "                      accuracy                           0.82      2013\n",
      "                     macro avg       0.31      0.17      0.17      2013\n",
      "                  weighted avg       0.81      0.82      0.78      2013\n",
      "\n",
      "Confusion Matrix:\n",
      "[[1524    0    0    0   57    0]\n",
      " [   2    0    0    0    0    0]\n",
      " [   7    0    0    0    0    0]\n",
      " [   0    0    0    0    1    0]\n",
      " [ 232    0    0    0  124    0]\n",
      " [  64    0    0    0    1    1]]\n",
      "\n",
      "Training SVM with rbf kernel...\n",
      "Accuracy with rbf kernel: 0.8286\n",
      "Classification Report:\n",
      "                                precision    recall  f1-score   support\n",
      "\n",
      "                        ACTIVE       0.86      0.94      0.90      1581\n",
      "            ACTIVE IN PROGRESS       0.00      0.00      0.00         2\n",
      "                   AMALGAMATED       0.00      0.00      0.00         7\n",
      "              CONVERTED TO LLP       0.00      0.00      0.00         0\n",
      "CONVERTED TO LLP AND DISSOLVED       0.00      0.00      0.00         1\n",
      "                       DORMANT       0.65      0.52      0.58       356\n",
      "                    LIQUIDATED       0.00      0.00      0.00         0\n",
      "                    STRIKE OFF       0.00      0.00      0.00        66\n",
      "\n",
      "                      accuracy                           0.83      2013\n",
      "                     macro avg       0.19      0.18      0.18      2013\n",
      "                  weighted avg       0.79      0.83      0.81      2013\n",
      "\n",
      "Confusion Matrix:\n",
      "[[1483    0    0    0   98    0]\n",
      " [   2    0    0    0    0    0]\n",
      " [   7    0    0    0    0    0]\n",
      " [   0    0    0    0    1    0]\n",
      " [ 171    0    0    0  185    0]\n",
      " [  65    0    0    0    1    0]]\n",
      "\n",
      "Training SVM with sigmoid kernel...\n",
      "Accuracy with sigmoid kernel: 0.8028\n",
      "Classification Report:\n",
      "                                precision    recall  f1-score   support\n",
      "\n",
      "                        ACTIVE       0.83      0.94      0.88      1581\n",
      "            ACTIVE IN PROGRESS       0.00      0.00      0.00         2\n",
      "                   AMALGAMATED       0.00      0.00      0.00         7\n",
      "              CONVERTED TO LLP       0.00      0.00      0.00         0\n",
      "CONVERTED TO LLP AND DISSOLVED       0.00      0.00      0.00         1\n",
      "                       DORMANT       0.58      0.34      0.43       356\n",
      "                    LIQUIDATED       0.00      0.00      0.00         0\n",
      "                    STRIKE OFF       0.00      0.00      0.00        66\n",
      "\n",
      "                      accuracy                           0.80      2013\n",
      "                     macro avg       0.18      0.16      0.16      2013\n",
      "                  weighted avg       0.75      0.80      0.77      2013\n",
      "\n",
      "Confusion Matrix:\n",
      "[[1494    0    0    0   87    0]\n",
      " [   2    0    0    0    0    0]\n",
      " [   7    0    0    0    0    0]\n",
      " [   1    0    0    0    0    0]\n",
      " [ 233    0    1    0  122    0]\n",
      " [  66    0    0    0    0    0]]\n"
     ]
    }
   ],
   "source": [
    "#  SVM with different kernels\n",
    "\n",
    "# Define the list of kernels to test\n",
    "kernels = ['linear', 'poly', 'rbf', 'sigmoid']\n",
    "\n",
    "# Dictionary to store accuracy results for each kernel\n",
    "results = {}\n",
    "\n",
    "# Loop through each kernel type\n",
    "for kernel in kernels:\n",
    "    print(f\"\\nTraining SVM with {kernel} kernel...\")\n",
    "\n",
    "    # Initialize the Support Vector Classifier with the current kernel\n",
    "    model = SVC(kernel=kernel)\n",
    "\n",
    "    # Train the model on the training data\n",
    "    model.fit(X_train, y_train)\n",
    "\n",
    "    # Predict the target on the test data\n",
    "    y_pred = model.predict(X_test)\n",
    "\n",
    "    # Calculate accuracy\n",
    "    acc = accuracy_score(y_test, y_pred)\n",
    "    print(f\"Accuracy with {kernel} kernel: {acc:.4f}\")\n",
    "\n",
    "    # Print classification report with all known classes (even if some were not predicted)\n",
    "    print(\"Classification Report:\")\n",
    "    print(classification_report(\n",
    "        y_test, \n",
    "        y_pred, \n",
    "        labels=np.arange(len(le.classes_)),  # Ensures all label indices are included\n",
    "        target_names=le.classes_             # Matches label indices with original class names\n",
    "    ))\n",
    "\n",
    "    # Print confusion matrix to visualize misclassifications\n",
    "    print(\"Confusion Matrix:\")\n",
    "    print(confusion_matrix(y_test, y_pred))\n",
    "\n",
    "    # Store accuracy result for the current kernel\n",
    "    results[kernel] = acc"
   ]
  },
  {
   "cell_type": "markdown",
   "id": "43b78c7f-2123-4b2a-bc70-fa72c51a744b",
   "metadata": {},
   "source": [
    "**Best Performing Kernel**\n",
    "\n",
    "From the accuracy scores:\n",
    "\n",
    ">Linear Kernel: 83.26%\n",
    "\n",
    ">Polynomial Kernel: 81.92%\n",
    "\n",
    ">RBF Kernel: 82.86%\n",
    "\n",
    ">Sigmoid Kernel: 80.28%\n",
    "\n",
    "**Best Kernel = Linear (83.26%)**\n",
    "So, the linear kernel gives the highest accuracy. This suggests that the data is mostly linearly separable.\n",
    "\n",
    "**Class-Wise Performance (Classification Report)**\n",
    "ACTIVE class is predicted well:\n",
    "\n",
    ">Precision ~ 86%\n",
    "\n",
    ">Recall ~ 94%\n",
    "\n",
    ">F1-score ~ 90%\n",
    "\n",
    "This means that most active companies are correctly classified.\n",
    "\n",
    "Other classes (STRIKE OFF, DORMANT) are not predicted well:\n",
    "\n",
    "Precision is 0.00 for ACTIVE IN PROGRESS, AMALGAMATED, LIQUIDATED, CONVERTED TO LLP\n",
    "\n",
    "This means the model is struggling to identify minority classes.\n",
    "\n",
    "Possible reason: Imbalanced dataset.\n",
    "\n",
    "**Confusion Matrix Insights**\n",
    "\n",
    "Looking at the confusion matrices, we see:\n",
    "\n",
    "ACTIVE is classified correctly most of the time.\n",
    "\n",
    "DORMANT is often misclassified as ACTIVE.\n",
    "\n",
    "Minority classes (AMALGAMATED, CONVERTED TO LLP, STRIKE OFF) are almost never predicted correctly.\n",
    "\n",
    "These have very low recall.\n",
    "\n",
    "Possible Fix: Apply class balancing (SMOTE, class weighting).\n",
    "\n",
    "**Key Takeaways**\n",
    "\n",
    "✔️ Linear kernel is best → Data is mostly linearly separable.\n",
    "\n",
    "❌ Poor minority class prediction → Need to handle class imbalance.\n",
    "\n",
    "📊 Confusion Matrix shows dominant class predictions → Need to improve recall for small classes."
   ]
  },
  {
   "cell_type": "markdown",
   "id": "df3fc965-68ca-4e0d-b4bc-478ed2d7b1a9",
   "metadata": {},
   "source": [
    "# Model Prediction:"
   ]
  },
  {
   "cell_type": "code",
   "execution_count": 18,
   "id": "98cb7652-4d12-445f-a442-6e68a5381f02",
   "metadata": {},
   "outputs": [
    {
     "name": "stdout",
     "output_type": "stream",
     "text": [
      "\n",
      "Best kernel based on accuracy: linear\n",
      "Accuracy: 0.8028\n"
     ]
    }
   ],
   "source": [
    "# the best performing kernel based on accuracy\n",
    "best_kernel = max(results, key=results.get)\n",
    "print(f\"\\nBest kernel based on accuracy: {best_kernel}\")\n",
    "\n",
    "# Retrain model using best kernel\n",
    "best_model = SVC(kernel=best_kernel)\n",
    "best_model.fit(X_train, y_train)\n",
    "\n",
    "y_pred_best = best_model.predict(X_test)\n",
    "\n",
    "#Calculate and print accuracy\n",
    "accuracy = accuracy_score(y_test, y_pred)\n",
    "print(f\"Accuracy: {accuracy:.4f}\")"
   ]
  },
  {
   "cell_type": "markdown",
   "id": "c54759aa-bdc0-4a07-a506-7896922884a8",
   "metadata": {},
   "source": [
    "# Model Evaluation:"
   ]
  },
  {
   "cell_type": "code",
   "execution_count": 19,
   "id": "635ef938-2640-4a53-88a6-02cae3e19177",
   "metadata": {},
   "outputs": [],
   "source": [
    "import matplotlib.pyplot as plt\n",
    "import seaborn as sns"
   ]
  },
  {
   "cell_type": "code",
   "execution_count": 20,
   "id": "c2a497f6-f20f-4c6c-b4bd-b91d0cab91b2",
   "metadata": {},
   "outputs": [
    {
     "data": {
      "image/png": "[encoded data removed]",
      "text/plain": [
       "<Figure size 800x600 with 2 Axes>"
      ]
     },
     "metadata": {},
     "output_type": "display_data"
    }
   ],
   "source": [
    "# Confusion Matrix\n",
    "cm = confusion_matrix(y_test, y_pred_best)\n",
    "plt.figure(figsize=(8, 6))\n",
    "sns.heatmap(cm, annot=True, fmt='d', cmap='Blues', \n",
    "            xticklabels=le.classes_, yticklabels=le.classes_)\n",
    "plt.title(f'Confusion Matrix - {best_kernel} Kernel')\n",
    "plt.xlabel('Predicted')\n",
    "plt.ylabel('Actual')\n",
    "plt.show()"
   ]
  },
  {
   "cell_type": "code",
   "execution_count": 21,
   "id": "460e499c-34c4-4a06-b0db-5c6ee67f9288",
   "metadata": {},
   "outputs": [
    {
     "name": "stdout",
     "output_type": "stream",
     "text": [
      "\n",
      "Classification Report:\n",
      "                                precision    recall  f1-score   support\n",
      "\n",
      "                        ACTIVE       0.86      0.94      0.90      1581\n",
      "            ACTIVE IN PROGRESS       0.00      0.00      0.00         2\n",
      "                   AMALGAMATED       0.00      0.00      0.00         7\n",
      "              CONVERTED TO LLP       0.00      0.00      0.00         0\n",
      "CONVERTED TO LLP AND DISSOLVED       0.00      0.00      0.00         1\n",
      "                       DORMANT       0.67      0.53      0.59       356\n",
      "                    LIQUIDATED       0.00      0.00      0.00         0\n",
      "                    STRIKE OFF       0.00      0.00      0.00        66\n",
      "\n",
      "                      accuracy                           0.83      2013\n",
      "                     macro avg       0.19      0.18      0.19      2013\n",
      "                  weighted avg       0.79      0.83      0.81      2013\n",
      "\n"
     ]
    }
   ],
   "source": [
    "#Classification Report\n",
    "\n",
    "print(\"\\nClassification Report:\")\n",
    "print(classification_report(\n",
    "    y_test, y_pred_best,\n",
    "    labels=np.arange(len(le.classes_)),\n",
    "    target_names=le.classes_\n",
    "))"
   ]
  },
  {
   "cell_type": "code",
   "execution_count": 22,
   "id": "caddd5e0-8553-45f5-9dcc-9f831cf44fcb",
   "metadata": {},
   "outputs": [
    {
     "name": "stdout",
     "output_type": "stream",
     "text": [
      "\n",
      "Overall Accuracy using linear kernel: 0.8326\n"
     ]
    }
   ],
   "source": [
    "# Accuracy\n",
    "acc_best = accuracy_score(y_test, y_pred_best)\n",
    "print(f\"\\nOverall Accuracy using {best_kernel} kernel: {acc_best:.4f}\")"
   ]
  },
  {
   "cell_type": "markdown",
   "id": "1a2c0eb8-72d0-4509-a3c6-02ce11efc9f4",
   "metadata": {},
   "source": [
    "# visualize the decision boundary created by the SVM models."
   ]
  },
  {
   "cell_type": "code",
   "execution_count": 23,
   "id": "1c2b8ca0-55a3-4dcb-9222-c854f2af70f9",
   "metadata": {},
   "outputs": [],
   "source": [
    "from sklearn.decomposition import PCA"
   ]
  },
  {
   "cell_type": "code",
   "execution_count": 25,
   "id": "d54de9a7-7d3a-44bb-ba82-d33a4465be18",
   "metadata": {},
   "outputs": [],
   "source": [
    "# Reduce to 2D using PCA for visualization\n",
    "pca = PCA(n_components=2)\n",
    "X_train_pca = pca.fit_transform(X_train)\n",
    "X_test_pca = pca.transform(X_test)\n",
    "\n",
    "# Train model on 2D PCA data for visualization\n",
    "svm_vis = SVC(kernel=best_kernel)\n",
    "svm_vis.fit(X_train_pca, y_train)\n",
    "\n",
    "# Create a mesh to plot the decision boundary\n",
    "x_min, x_max = X_train_pca[:, 0].min() - 1, X_train_pca[:, 0].max() + 1\n",
    "y_min, y_max = X_train_pca[:, 1].min() - 1, X_train_pca[:, 1].max() + 1\n",
    "xx, yy = np.meshgrid(np.linspace(x_min, x_max, 500),\n",
    "                     np.linspace(y_min, y_max, 500))\n",
    "Z = svm_vis.predict(np.c_[xx.ravel(), yy.ravel()])\n",
    "Z = Z.reshape(xx.shape)\n"
   ]
  },
  {
   "cell_type": "code",
   "execution_count": 26,
   "id": "a57d8b86-c07c-41d4-883e-fb1d32203277",
   "metadata": {},
   "outputs": [
    {
     "data": {
      "image/png": "[encoded data removed]",
      "text/plain": [
       "<Figure size 1000x400 with 1 Axes>"
      ]
     },
     "metadata": {},
     "output_type": "display_data"
    }
   ],
   "source": [
    "# Plot\n",
    "plt.figure(figsize=(10, 4))\n",
    "plt.contourf(xx, yy, Z, alpha=0.3, cmap='Set1')\n",
    "scatter = plt.scatter(X_train_pca[:, 0], X_train_pca[:, 1], c=y_train, cmap='Set1', edgecolors='k')\n",
    "plt.title(f\"SVM Decision Boundary ({best_kernel} kernel, PCA-reduced)\")\n",
    "plt.xlabel('PCA Component 1')\n",
    "plt.ylabel('PCA Component 2')\n",
    "handles, labels = scatter.legend_elements(prop=\"colors\")\n",
    "plt.legend(handles, labels, title=\"Classes\")\n",
    "plt.grid(True)\n",
    "plt.show()"
   ]
  },
  {
   "cell_type": "markdown",
   "id": "fe16fb74-4550-422c-8774-ba820defee28",
   "metadata": {},
   "source": [
    "# THE END"
   ]
  },
  {
   "cell_type": "code",
   "execution_count": null,
   "id": "759828a6-3fc1-4cc8-879a-b0e7ef0ccaee",
   "metadata": {},
   "outputs": [],
   "source": []
  }
 ],
 "metadata": {
  "kernelspec": {
   "display_name": "Python 3 (ipykernel)",
   "language": "python",
   "name": "python3"
  },
  "language_info": {
   "codemirror_mode": {
    "name": "ipython",
    "version": 3
   },
   "file_extension": ".py",
   "mimetype": "text/x-python",
   "name": "python",
   "nbconvert_exporter": "python",
   "pygments_lexer": "ipython3",
   "version": "3.12.7"
  }
 },
 "nbformat": 4,
 "nbformat_minor": 5
}
